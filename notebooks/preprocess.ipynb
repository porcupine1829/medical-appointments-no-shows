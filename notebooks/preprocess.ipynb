{
 "cells": [
  {
   "cell_type": "code",
   "execution_count": 86,
   "id": "c1e5d661",
   "metadata": {},
   "outputs": [],
   "source": [
    "#importing the necessary library\n",
    "import pandas as pd\n",
    "import numpy as np\n",
    "from sklearn.preprocessing import LabelEncoder"
   ]
  },
  {
   "cell_type": "code",
   "execution_count": 87,
   "id": "ec9dc486",
   "metadata": {},
   "outputs": [
    {
     "name": "stdout",
     "output_type": "stream",
     "text": [
      "      PatientId  AppointmentID Gender          ScheduledDay  \\\n",
      "0  2.987250e+13        5642903      F  2016-04-29T18:38:08Z   \n",
      "1  5.589978e+14        5642503      M  2016-04-29T16:08:27Z   \n",
      "2  4.262962e+12        5642549      F  2016-04-29T16:19:04Z   \n",
      "3  8.679512e+11        5642828      F  2016-04-29T17:29:31Z   \n",
      "4  8.841186e+12        5642494      F  2016-04-29T16:07:23Z   \n",
      "\n",
      "         AppointmentDay  Age      Neighbourhood  Scholarship  Hipertension  \\\n",
      "0  2016-04-29T00:00:00Z   62    JARDIM DA PENHA            0             1   \n",
      "1  2016-04-29T00:00:00Z   56    JARDIM DA PENHA            0             0   \n",
      "2  2016-04-29T00:00:00Z   62      MATA DA PRAIA            0             0   \n",
      "3  2016-04-29T00:00:00Z    8  PONTAL DE CAMBURI            0             0   \n",
      "4  2016-04-29T00:00:00Z   56    JARDIM DA PENHA            0             1   \n",
      "\n",
      "   Diabetes  Alcoholism  Handcap  SMS_received No-show  \n",
      "0         0           0        0             0      No  \n",
      "1         0           0        0             0      No  \n",
      "2         0           0        0             0      No  \n",
      "3         0           0        0             0      No  \n",
      "4         1           0        0             0      No  \n"
     ]
    }
   ],
   "source": [
    "#reading the data file and displaying few records\n",
    "raw_data_path = r\"../raw-data\\KaggleV2-May-2016.csv\"\n",
    "df = pd.read_csv(raw_data_path)\n",
    "print(df.head())"
   ]
  },
  {
   "cell_type": "code",
   "execution_count": 88,
   "id": "8d7e142c",
   "metadata": {},
   "outputs": [
    {
     "name": "stdout",
     "output_type": "stream",
     "text": [
      "(110527, 14)\n"
     ]
    }
   ],
   "source": [
    "#identifying the shape of dataframe (rows and columns)\n",
    "print(df.shape)"
   ]
  },
  {
   "cell_type": "code",
   "execution_count": 89,
   "id": "fd149be5",
   "metadata": {},
   "outputs": [
    {
     "name": "stdout",
     "output_type": "stream",
     "text": [
      "<class 'pandas.core.frame.DataFrame'>\n",
      "RangeIndex: 110527 entries, 0 to 110526\n",
      "Data columns (total 14 columns):\n",
      " #   Column          Non-Null Count   Dtype  \n",
      "---  ------          --------------   -----  \n",
      " 0   PatientId       110527 non-null  float64\n",
      " 1   AppointmentID   110527 non-null  int64  \n",
      " 2   Gender          110527 non-null  object \n",
      " 3   ScheduledDay    110527 non-null  object \n",
      " 4   AppointmentDay  110527 non-null  object \n",
      " 5   Age             110527 non-null  int64  \n",
      " 6   Neighbourhood   110527 non-null  object \n",
      " 7   Scholarship     110527 non-null  int64  \n",
      " 8   Hipertension    110527 non-null  int64  \n",
      " 9   Diabetes        110527 non-null  int64  \n",
      " 10  Alcoholism      110527 non-null  int64  \n",
      " 11  Handcap         110527 non-null  int64  \n",
      " 12  SMS_received    110527 non-null  int64  \n",
      " 13  No-show         110527 non-null  object \n",
      "dtypes: float64(1), int64(8), object(5)\n",
      "memory usage: 11.8+ MB\n"
     ]
    }
   ],
   "source": [
    "#identifying information of each column (null values, count and the datatype of each column)\n",
    "df.info()"
   ]
  },
  {
   "cell_type": "code",
   "execution_count": 90,
   "id": "e4191ae5",
   "metadata": {},
   "outputs": [
    {
     "name": "stdout",
     "output_type": "stream",
     "text": [
      "PatientId         0\n",
      "AppointmentID     0\n",
      "Gender            0\n",
      "ScheduledDay      0\n",
      "AppointmentDay    0\n",
      "Age               0\n",
      "Neighbourhood     0\n",
      "Scholarship       0\n",
      "Hipertension      0\n",
      "Diabetes          0\n",
      "Alcoholism        0\n",
      "Handcap           0\n",
      "SMS_received      0\n",
      "No-show           0\n",
      "dtype: int64\n"
     ]
    }
   ],
   "source": [
    "#identifying the null values and their count\n",
    "print(df.isna().sum())"
   ]
  },
  {
   "cell_type": "code",
   "execution_count": 91,
   "id": "b747ac4a",
   "metadata": {},
   "outputs": [
    {
     "data": {
      "text/plain": [
       "Index(['PatientId', 'AppointmentID', 'Gender', 'ScheduledDay',\n",
       "       'AppointmentDay', 'Age', 'Neighbourhood', 'Scholarship', 'Hipertension',\n",
       "       'Diabetes', 'Alcoholism', 'Handcap', 'SMS_received', 'No-show'],\n",
       "      dtype='object')"
      ]
     },
     "execution_count": 91,
     "metadata": {},
     "output_type": "execute_result"
    }
   ],
   "source": [
    "#identifying the columns\n",
    "df.columns"
   ]
  },
  {
   "cell_type": "code",
   "execution_count": 92,
   "id": "8ec9244f",
   "metadata": {},
   "outputs": [],
   "source": [
    "#changing the column names to lower case for consistency\n",
    "df.columns = df.columns.str.lower()"
   ]
  },
  {
   "cell_type": "code",
   "execution_count": 93,
   "id": "1337762d",
   "metadata": {},
   "outputs": [
    {
     "data": {
      "text/plain": [
       "Index(['patientid', 'appointmentid', 'gender', 'scheduledday',\n",
       "       'appointmentday', 'age', 'neighbourhood', 'scholarship', 'hipertension',\n",
       "       'diabetes', 'alcoholism', 'handcap', 'sms_received', 'no-show'],\n",
       "      dtype='object')"
      ]
     },
     "execution_count": 93,
     "metadata": {},
     "output_type": "execute_result"
    }
   ],
   "source": [
    "#verifying the changes applied\n",
    "df.columns"
   ]
  },
  {
   "cell_type": "code",
   "execution_count": 94,
   "id": "a763aba0",
   "metadata": {},
   "outputs": [],
   "source": [
    "#corecting the wrong spelling of the column \"hypertension\"\n",
    "df.rename(columns={\"hipertension\": \"hypertension\"}, inplace=True)"
   ]
  },
  {
   "cell_type": "code",
   "execution_count": 95,
   "id": "ed3fc5c7",
   "metadata": {},
   "outputs": [
    {
     "data": {
      "text/plain": [
       "Index(['patientid', 'appointmentid', 'gender', 'scheduledday',\n",
       "       'appointmentday', 'age', 'neighbourhood', 'scholarship', 'hypertension',\n",
       "       'diabetes', 'alcoholism', 'handcap', 'sms_received', 'no-show'],\n",
       "      dtype='object')"
      ]
     },
     "execution_count": 95,
     "metadata": {},
     "output_type": "execute_result"
    }
   ],
   "source": [
    "#verifying the changes applied\n",
    "df.columns"
   ]
  },
  {
   "cell_type": "code",
   "execution_count": 96,
   "id": "c5144b42",
   "metadata": {},
   "outputs": [
    {
     "name": "stdout",
     "output_type": "stream",
     "text": [
      "Mask of all dups:\n",
      " 0         False\n",
      "1         False\n",
      "2         False\n",
      "3         False\n",
      "4         False\n",
      "          ...  \n",
      "110522    False\n",
      "110523    False\n",
      "110524    False\n",
      "110525    False\n",
      "110526    False\n",
      "Length: 110527, dtype: bool\n",
      "\n",
      "All duplicated rows:\n",
      " Empty DataFrame\n",
      "Columns: [patientid, appointmentid, gender, scheduledday, appointmentday, age, neighbourhood, scholarship, hypertension, diabetes, alcoholism, handcap, sms_received, no-show]\n",
      "Index: []\n"
     ]
    }
   ],
   "source": [
    "#identifying duplicate values\n",
    "dup_mask = df.duplicated(keep=False)\n",
    "df_all_dups = df[dup_mask]\n",
    "\n",
    "print(\"Mask of all dups:\\n\", dup_mask)\n",
    "print(\"\\nAll duplicated rows:\\n\", df_all_dups)"
   ]
  },
  {
   "cell_type": "code",
   "execution_count": 97,
   "id": "4ba0d08b",
   "metadata": {},
   "outputs": [
    {
     "name": "stdout",
     "output_type": "stream",
     "text": [
      "62299\n"
     ]
    }
   ],
   "source": [
    "unique_patients = df['patientid'].nunique()\n",
    "print(unique_patients)"
   ]
  },
  {
   "cell_type": "code",
   "execution_count": 98,
   "id": "548a78ee",
   "metadata": {},
   "outputs": [],
   "source": [
    "#type-casting the datatype of `patientid` since it cannot be a float value\n",
    "df[\"patientid\"] = df[\"patientid\"].astype(int)"
   ]
  },
  {
   "cell_type": "code",
   "execution_count": 99,
   "id": "691f9c65",
   "metadata": {},
   "outputs": [
    {
     "data": {
      "text/plain": [
       "gender\n",
       "F    71840\n",
       "M    38687\n",
       "Name: count, dtype: int64"
      ]
     },
     "execution_count": 99,
     "metadata": {},
     "output_type": "execute_result"
    }
   ],
   "source": [
    "df['gender'].value_counts()"
   ]
  },
  {
   "cell_type": "code",
   "execution_count": 100,
   "id": "9524dd1e",
   "metadata": {},
   "outputs": [],
   "source": [
    "#cleaning the text columns\n",
    "def clean_text_column(series):\n",
    "    return (series\n",
    "            .str.strip()                    # Remove leading/trailing whitespace\n",
    "            .str.lower()                    # Convert to lowercase\n",
    "            .replace('', np.nan))\n",
    "\n",
    "text_cols = ['gender', 'neighbourhood', 'no-show']\n",
    "for col in text_cols:\n",
    "    df[col] = clean_text_column(df[col])\n"
   ]
  },
  {
   "cell_type": "code",
   "execution_count": 101,
   "id": "b135a420",
   "metadata": {},
   "outputs": [
    {
     "data": {
      "text/html": [
       "<div>\n",
       "<style scoped>\n",
       "    .dataframe tbody tr th:only-of-type {\n",
       "        vertical-align: middle;\n",
       "    }\n",
       "\n",
       "    .dataframe tbody tr th {\n",
       "        vertical-align: top;\n",
       "    }\n",
       "\n",
       "    .dataframe thead th {\n",
       "        text-align: right;\n",
       "    }\n",
       "</style>\n",
       "<table border=\"1\" class=\"dataframe\">\n",
       "  <thead>\n",
       "    <tr style=\"text-align: right;\">\n",
       "      <th></th>\n",
       "      <th>patientid</th>\n",
       "      <th>appointmentid</th>\n",
       "      <th>gender</th>\n",
       "      <th>scheduledday</th>\n",
       "      <th>appointmentday</th>\n",
       "      <th>age</th>\n",
       "      <th>neighbourhood</th>\n",
       "      <th>scholarship</th>\n",
       "      <th>hypertension</th>\n",
       "      <th>diabetes</th>\n",
       "      <th>alcoholism</th>\n",
       "      <th>handcap</th>\n",
       "      <th>sms_received</th>\n",
       "      <th>no-show</th>\n",
       "    </tr>\n",
       "  </thead>\n",
       "  <tbody>\n",
       "    <tr>\n",
       "      <th>0</th>\n",
       "      <td>29872499824296</td>\n",
       "      <td>5642903</td>\n",
       "      <td>f</td>\n",
       "      <td>2016-04-29T18:38:08Z</td>\n",
       "      <td>2016-04-29T00:00:00Z</td>\n",
       "      <td>62</td>\n",
       "      <td>jardim da penha</td>\n",
       "      <td>0</td>\n",
       "      <td>1</td>\n",
       "      <td>0</td>\n",
       "      <td>0</td>\n",
       "      <td>0</td>\n",
       "      <td>0</td>\n",
       "      <td>no</td>\n",
       "    </tr>\n",
       "    <tr>\n",
       "      <th>1</th>\n",
       "      <td>558997776694438</td>\n",
       "      <td>5642503</td>\n",
       "      <td>m</td>\n",
       "      <td>2016-04-29T16:08:27Z</td>\n",
       "      <td>2016-04-29T00:00:00Z</td>\n",
       "      <td>56</td>\n",
       "      <td>jardim da penha</td>\n",
       "      <td>0</td>\n",
       "      <td>0</td>\n",
       "      <td>0</td>\n",
       "      <td>0</td>\n",
       "      <td>0</td>\n",
       "      <td>0</td>\n",
       "      <td>no</td>\n",
       "    </tr>\n",
       "  </tbody>\n",
       "</table>\n",
       "</div>"
      ],
      "text/plain": [
       "         patientid  appointmentid gender          scheduledday  \\\n",
       "0   29872499824296        5642903      f  2016-04-29T18:38:08Z   \n",
       "1  558997776694438        5642503      m  2016-04-29T16:08:27Z   \n",
       "\n",
       "         appointmentday  age    neighbourhood  scholarship  hypertension  \\\n",
       "0  2016-04-29T00:00:00Z   62  jardim da penha            0             1   \n",
       "1  2016-04-29T00:00:00Z   56  jardim da penha            0             0   \n",
       "\n",
       "   diabetes  alcoholism  handcap  sms_received no-show  \n",
       "0         0           0        0             0      no  \n",
       "1         0           0        0             0      no  "
      ]
     },
     "execution_count": 101,
     "metadata": {},
     "output_type": "execute_result"
    }
   ],
   "source": [
    "df.head(2)"
   ]
  },
  {
   "cell_type": "code",
   "execution_count": 102,
   "id": "98779ec0",
   "metadata": {},
   "outputs": [
    {
     "data": {
      "text/plain": [
       "['gender', 'neighbourhood', 'no-show']"
      ]
     },
     "execution_count": 102,
     "metadata": {},
     "output_type": "execute_result"
    }
   ],
   "source": [
    "text_cols"
   ]
  },
  {
   "cell_type": "code",
   "execution_count": 103,
   "id": "aee4b74f",
   "metadata": {},
   "outputs": [
    {
     "name": "stdout",
     "output_type": "stream",
     "text": [
      "patientid                  int64\n",
      "appointmentid              int64\n",
      "gender                    object\n",
      "scheduledday      datetime64[ns]\n",
      "appointmentday    datetime64[ns]\n",
      "age                        int64\n",
      "neighbourhood             object\n",
      "scholarship                int64\n",
      "hypertension               int64\n",
      "diabetes                   int64\n",
      "alcoholism                 int64\n",
      "handcap                    int64\n",
      "sms_received               int64\n",
      "no-show                   object\n",
      "dtype: object\n"
     ]
    }
   ],
   "source": [
    "# parse both columns\n",
    "df['scheduledday']   = pd.to_datetime(df['scheduledday'],   format='%Y-%m-%dT%H:%M:%SZ')\n",
    "df['appointmentday'] = pd.to_datetime(df['appointmentday'], format='%Y-%m-%dT%H:%M:%SZ')\n",
    "\n",
    "print(df.dtypes)\n"
   ]
  },
  {
   "cell_type": "code",
   "execution_count": 104,
   "id": "3ae1d1d0",
   "metadata": {},
   "outputs": [
    {
     "data": {
      "text/html": [
       "<div>\n",
       "<style scoped>\n",
       "    .dataframe tbody tr th:only-of-type {\n",
       "        vertical-align: middle;\n",
       "    }\n",
       "\n",
       "    .dataframe tbody tr th {\n",
       "        vertical-align: top;\n",
       "    }\n",
       "\n",
       "    .dataframe thead th {\n",
       "        text-align: right;\n",
       "    }\n",
       "</style>\n",
       "<table border=\"1\" class=\"dataframe\">\n",
       "  <thead>\n",
       "    <tr style=\"text-align: right;\">\n",
       "      <th></th>\n",
       "      <th>patientid</th>\n",
       "      <th>appointmentid</th>\n",
       "      <th>gender</th>\n",
       "      <th>scheduledday</th>\n",
       "      <th>appointmentday</th>\n",
       "      <th>age</th>\n",
       "      <th>neighbourhood</th>\n",
       "      <th>scholarship</th>\n",
       "      <th>hypertension</th>\n",
       "      <th>diabetes</th>\n",
       "      <th>alcoholism</th>\n",
       "      <th>handcap</th>\n",
       "      <th>sms_received</th>\n",
       "      <th>no-show</th>\n",
       "    </tr>\n",
       "  </thead>\n",
       "  <tbody>\n",
       "    <tr>\n",
       "      <th>0</th>\n",
       "      <td>29872499824296</td>\n",
       "      <td>5642903</td>\n",
       "      <td>f</td>\n",
       "      <td>2016-04-29 18:38:08</td>\n",
       "      <td>2016-04-29</td>\n",
       "      <td>62</td>\n",
       "      <td>jardim da penha</td>\n",
       "      <td>0</td>\n",
       "      <td>1</td>\n",
       "      <td>0</td>\n",
       "      <td>0</td>\n",
       "      <td>0</td>\n",
       "      <td>0</td>\n",
       "      <td>no</td>\n",
       "    </tr>\n",
       "    <tr>\n",
       "      <th>1</th>\n",
       "      <td>558997776694438</td>\n",
       "      <td>5642503</td>\n",
       "      <td>m</td>\n",
       "      <td>2016-04-29 16:08:27</td>\n",
       "      <td>2016-04-29</td>\n",
       "      <td>56</td>\n",
       "      <td>jardim da penha</td>\n",
       "      <td>0</td>\n",
       "      <td>0</td>\n",
       "      <td>0</td>\n",
       "      <td>0</td>\n",
       "      <td>0</td>\n",
       "      <td>0</td>\n",
       "      <td>no</td>\n",
       "    </tr>\n",
       "  </tbody>\n",
       "</table>\n",
       "</div>"
      ],
      "text/plain": [
       "         patientid  appointmentid gender        scheduledday appointmentday  \\\n",
       "0   29872499824296        5642903      f 2016-04-29 18:38:08     2016-04-29   \n",
       "1  558997776694438        5642503      m 2016-04-29 16:08:27     2016-04-29   \n",
       "\n",
       "   age    neighbourhood  scholarship  hypertension  diabetes  alcoholism  \\\n",
       "0   62  jardim da penha            0             1         0           0   \n",
       "1   56  jardim da penha            0             0         0           0   \n",
       "\n",
       "   handcap  sms_received no-show  \n",
       "0        0             0      no  \n",
       "1        0             0      no  "
      ]
     },
     "execution_count": 104,
     "metadata": {},
     "output_type": "execute_result"
    }
   ],
   "source": [
    "df.head(2)"
   ]
  },
  {
   "cell_type": "code",
   "execution_count": 105,
   "id": "1647d114",
   "metadata": {},
   "outputs": [
    {
     "name": "stdout",
     "output_type": "stream",
     "text": [
      "<bound method DataFrame.info of               patientid  appointmentid gender        scheduledday  \\\n",
      "0        29872499824296        5642903      f 2016-04-29 18:38:08   \n",
      "1       558997776694438        5642503      m 2016-04-29 16:08:27   \n",
      "2         4262962299951        5642549      f 2016-04-29 16:19:04   \n",
      "3          867951213174        5642828      f 2016-04-29 17:29:31   \n",
      "4         8841186448183        5642494      f 2016-04-29 16:07:23   \n",
      "...                 ...            ...    ...                 ...   \n",
      "110522    2572134369293        5651768      f 2016-05-03 09:15:35   \n",
      "110523    3596266328735        5650093      f 2016-05-03 07:27:33   \n",
      "110524   15576631729893        5630692      f 2016-04-27 16:03:52   \n",
      "110525   92134931435557        5630323      f 2016-04-27 15:09:23   \n",
      "110526  377511518121127        5629448      f 2016-04-27 13:30:56   \n",
      "\n",
      "       appointmentday  age      neighbourhood  scholarship  hypertension  \\\n",
      "0          2016-04-29   62    jardim da penha            0             1   \n",
      "1          2016-04-29   56    jardim da penha            0             0   \n",
      "2          2016-04-29   62      mata da praia            0             0   \n",
      "3          2016-04-29    8  pontal de camburi            0             0   \n",
      "4          2016-04-29   56    jardim da penha            0             1   \n",
      "...               ...  ...                ...          ...           ...   \n",
      "110522     2016-06-07   56        maria ortiz            0             0   \n",
      "110523     2016-06-07   51        maria ortiz            0             0   \n",
      "110524     2016-06-07   21        maria ortiz            0             0   \n",
      "110525     2016-06-07   38        maria ortiz            0             0   \n",
      "110526     2016-06-07   54        maria ortiz            0             0   \n",
      "\n",
      "        diabetes  alcoholism  handcap  sms_received no-show  gender_lbl  \\\n",
      "0              0           0        0             0      no           0   \n",
      "1              0           0        0             0      no           1   \n",
      "2              0           0        0             0      no           0   \n",
      "3              0           0        0             0      no           0   \n",
      "4              1           0        0             0      no           0   \n",
      "...          ...         ...      ...           ...     ...         ...   \n",
      "110522         0           0        0             1      no           0   \n",
      "110523         0           0        0             1      no           0   \n",
      "110524         0           0        0             1      no           0   \n",
      "110525         0           0        0             1      no           0   \n",
      "110526         0           0        0             1      no           0   \n",
      "\n",
      "        neighbourhood_lbl  no-show_lbl  \n",
      "0                      39            0  \n",
      "1                      39            0  \n",
      "2                      45            0  \n",
      "3                      54            0  \n",
      "4                      39            0  \n",
      "...                   ...          ...  \n",
      "110522                 43            0  \n",
      "110523                 43            0  \n",
      "110524                 43            0  \n",
      "110525                 43            0  \n",
      "110526                 43            0  \n",
      "\n",
      "[110527 rows x 17 columns]>\n"
     ]
    }
   ],
   "source": [
    "# columns to be encoded\n",
    "cols_to_encode = [\"gender\", \"neighbourhood\", \"no-show\"]\n",
    "\n",
    "# dict to hold the fitted encoders\n",
    "encoders = {}\n",
    "\n",
    "for col in cols_to_encode:\n",
    "    le = LabelEncoder()\n",
    "    # fit and transform the column, overwrite in place\n",
    "    df[col + \"_lbl\"] = le.fit_transform(df[col])\n",
    "    # keep the encoder if you need to decode later\n",
    "    encoders[col] = le\n",
    "\n",
    "print(df.info)"
   ]
  },
  {
   "cell_type": "markdown",
   "id": "41d84357",
   "metadata": {},
   "source": [
    "Created new columns with encoded labels for each columns, retaining the original column, <br> if necessary then we can remove the original columns using the following lines of code. <br>"
   ]
  },
  {
   "cell_type": "code",
   "execution_count": 106,
   "id": "460c47de",
   "metadata": {},
   "outputs": [],
   "source": [
    "# cols_to_remove = [\"gender\", \"neighbourhood\", \"no-show\"]\n",
    "# df = df.drop(columns=cols_to_remove, inplace=True)"
   ]
  },
  {
   "cell_type": "code",
   "execution_count": 107,
   "id": "ae8e6ff9",
   "metadata": {},
   "outputs": [],
   "source": [
    "#writing the cleaned and processed data to a csv file\n",
    "df.to_csv(\"../processed-data/medical-appointments.csv\", index=False)"
   ]
  },
  {
   "cell_type": "code",
   "execution_count": null,
   "id": "be966960",
   "metadata": {},
   "outputs": [],
   "source": []
  }
 ],
 "metadata": {
  "kernelspec": {
   "display_name": ".venv",
   "language": "python",
   "name": "python3"
  },
  "language_info": {
   "codemirror_mode": {
    "name": "ipython",
    "version": 3
   },
   "file_extension": ".py",
   "mimetype": "text/x-python",
   "name": "python",
   "nbconvert_exporter": "python",
   "pygments_lexer": "ipython3",
   "version": "3.12.6"
  }
 },
 "nbformat": 4,
 "nbformat_minor": 5
}
